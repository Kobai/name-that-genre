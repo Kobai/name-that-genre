{
  "nbformat": 4,
  "nbformat_minor": 0,
  "metadata": {
    "colab": {
      "name": "nostem_lyric.ipynb",
      "provenance": [],
      "toc_visible": true,
      "include_colab_link": true
    },
    "kernelspec": {
      "name": "python3",
      "display_name": "Python 3"
    },
    "accelerator": "GPU"
  },
  "cells": [
    {
      "cell_type": "markdown",
      "metadata": {
        "id": "view-in-github",
        "colab_type": "text"
      },
      "source": [
        "<a href=\"https://colab.research.google.com/github/Kobai/name-that-genre/blob/master/experiments/nostem_lyric.ipynb\" target=\"_parent\"><img src=\"https://colab.research.google.com/assets/colab-badge.svg\" alt=\"Open In Colab\"/></a>"
      ]
    },
    {
      "cell_type": "code",
      "metadata": {
        "id": "2MbFBvjqgpFd",
        "colab_type": "code",
        "colab": {}
      },
      "source": [
        "import string\n",
        "import re\n",
        "from os import listdir\n",
        "from numpy import array\n",
        "from tensorflow.keras.preprocessing.text import Tokenizer\n",
        "from tensorflow.keras.preprocessing.sequence import pad_sequences\n",
        "from tensorflow.keras.utils import plot_model, to_categorical\n",
        "from tensorflow.keras.models import Sequential, Model\n",
        "from tensorflow.keras.layers import Dense, Flatten, Embedding, Conv1D, MaxPooling1D, Input, Dropout, concatenate\n",
        "from sklearn.metrics import confusion_matrix, classification_report\n",
        "from matplotlib import pyplot as plt\n",
        "import seaborn as sn\n",
        "import numpy as np\n",
        "import nltk\n",
        "nltk.download('stopwords')\n",
        "nltk.download('wordnet')\n",
        "from nltk.corpus import stopwords, wordnet\n",
        "from nltk.stem import PorterStemmer\n",
        "from collections import Counter\n",
        "import pandas as pd"
      ],
      "execution_count": 0,
      "outputs": []
    },
    {
      "cell_type": "markdown",
      "metadata": {
        "id": "z_PCqkGBwCei",
        "colab_type": "text"
      },
      "source": [
        "Lyrics data was acquired from https://www.kaggle.com/gyani95/380000-lyrics-from-metrolyrics"
      ]
    },
    {
      "cell_type": "code",
      "metadata": {
        "id": "W_DWgYRE1RLz",
        "colab_type": "code",
        "colab": {}
      },
      "source": [
        "from zipfile import ZipFile\n",
        "with ZipFile('lyrics.zip', 'r') as zipObj:\n",
        "  zipObj.extractall()"
      ],
      "execution_count": 0,
      "outputs": []
    },
    {
      "cell_type": "code",
      "metadata": {
        "id": "wg5HJtQg1-95",
        "colab_type": "code",
        "colab": {}
      },
      "source": [
        "import pandas as pd\n",
        "df = pd.read_csv('lyrics.csv')"
      ],
      "execution_count": 0,
      "outputs": []
    },
    {
      "cell_type": "code",
      "metadata": {
        "id": "HatNlkVd2IYt",
        "colab_type": "code",
        "outputId": "c47005f6-4ae5-45f1-f177-205e2ea025ad",
        "colab": {
          "base_uri": "https://localhost:8080/",
          "height": 204
        }
      },
      "source": [
        "df.head()"
      ],
      "execution_count": 5,
      "outputs": [
        {
          "output_type": "execute_result",
          "data": {
            "text/html": [
              "<div>\n",
              "<style scoped>\n",
              "    .dataframe tbody tr th:only-of-type {\n",
              "        vertical-align: middle;\n",
              "    }\n",
              "\n",
              "    .dataframe tbody tr th {\n",
              "        vertical-align: top;\n",
              "    }\n",
              "\n",
              "    .dataframe thead th {\n",
              "        text-align: right;\n",
              "    }\n",
              "</style>\n",
              "<table border=\"1\" class=\"dataframe\">\n",
              "  <thead>\n",
              "    <tr style=\"text-align: right;\">\n",
              "      <th></th>\n",
              "      <th>index</th>\n",
              "      <th>song</th>\n",
              "      <th>year</th>\n",
              "      <th>artist</th>\n",
              "      <th>genre</th>\n",
              "      <th>lyrics</th>\n",
              "    </tr>\n",
              "  </thead>\n",
              "  <tbody>\n",
              "    <tr>\n",
              "      <th>0</th>\n",
              "      <td>0</td>\n",
              "      <td>ego-remix</td>\n",
              "      <td>2009</td>\n",
              "      <td>beyonce-knowles</td>\n",
              "      <td>Pop</td>\n",
              "      <td>Oh baby, how you doing?\\nYou know I'm gonna cu...</td>\n",
              "    </tr>\n",
              "    <tr>\n",
              "      <th>1</th>\n",
              "      <td>1</td>\n",
              "      <td>then-tell-me</td>\n",
              "      <td>2009</td>\n",
              "      <td>beyonce-knowles</td>\n",
              "      <td>Pop</td>\n",
              "      <td>playin' everything so easy,\\nit's like you see...</td>\n",
              "    </tr>\n",
              "    <tr>\n",
              "      <th>2</th>\n",
              "      <td>2</td>\n",
              "      <td>honesty</td>\n",
              "      <td>2009</td>\n",
              "      <td>beyonce-knowles</td>\n",
              "      <td>Pop</td>\n",
              "      <td>If you search\\nFor tenderness\\nIt isn't hard t...</td>\n",
              "    </tr>\n",
              "    <tr>\n",
              "      <th>3</th>\n",
              "      <td>3</td>\n",
              "      <td>you-are-my-rock</td>\n",
              "      <td>2009</td>\n",
              "      <td>beyonce-knowles</td>\n",
              "      <td>Pop</td>\n",
              "      <td>Oh oh oh I, oh oh oh I\\n[Verse 1:]\\nIf I wrote...</td>\n",
              "    </tr>\n",
              "    <tr>\n",
              "      <th>4</th>\n",
              "      <td>4</td>\n",
              "      <td>black-culture</td>\n",
              "      <td>2009</td>\n",
              "      <td>beyonce-knowles</td>\n",
              "      <td>Pop</td>\n",
              "      <td>Party the people, the people the party it's po...</td>\n",
              "    </tr>\n",
              "  </tbody>\n",
              "</table>\n",
              "</div>"
            ],
            "text/plain": [
              "   index  ...                                             lyrics\n",
              "0      0  ...  Oh baby, how you doing?\\nYou know I'm gonna cu...\n",
              "1      1  ...  playin' everything so easy,\\nit's like you see...\n",
              "2      2  ...  If you search\\nFor tenderness\\nIt isn't hard t...\n",
              "3      3  ...  Oh oh oh I, oh oh oh I\\n[Verse 1:]\\nIf I wrote...\n",
              "4      4  ...  Party the people, the people the party it's po...\n",
              "\n",
              "[5 rows x 6 columns]"
            ]
          },
          "metadata": {
            "tags": []
          },
          "execution_count": 5
        }
      ]
    },
    {
      "cell_type": "code",
      "metadata": {
        "id": "lYD0DGl32KUI",
        "colab_type": "code",
        "colab": {}
      },
      "source": [
        "# We'll drop these columns because we want to classify genres only by lyrics\n",
        "df = df.drop(columns=['index', 'song', 'year', 'artist'])"
      ],
      "execution_count": 0,
      "outputs": []
    },
    {
      "cell_type": "code",
      "metadata": {
        "id": "34k9lR4l7j5J",
        "colab_type": "code",
        "colab": {}
      },
      "source": [
        "df.to_csv('small_lyrics.csv', index=False)"
      ],
      "execution_count": 0,
      "outputs": []
    },
    {
      "cell_type": "code",
      "metadata": {
        "id": "7u8qWLWs8nTN",
        "colab_type": "code",
        "outputId": "fd65d7c0-1dc4-478e-c618-c60b8c71b913",
        "colab": {
          "base_uri": "https://localhost:8080/",
          "height": 54
        }
      },
      "source": [
        "# Print out of the lyrics for the first song. As we can see, there's a lot of cleaning to be done\n",
        "df['lyrics'].head()[0]"
      ],
      "execution_count": 8,
      "outputs": [
        {
          "output_type": "execute_result",
          "data": {
            "text/plain": [
              "\"Oh baby, how you doing?\\nYou know I'm gonna cut right to the chase\\nSome women were made but me, myself\\nI like to think that I was created for a special purpose\\nYou know, what's more special than you? You feel me\\nIt's on baby, let's get lost\\nYou don't need to call into work 'cause you're the boss\\nFor real, want you to show me how you feel\\nI consider myself lucky, that's a big deal\\nWhy? Well, you got the key to my heart\\nBut you ain't gonna need it, I'd rather you open up my body\\nAnd show me secrets, you didn't know was inside\\nNo need for me to lie\\nIt's too big, it's too wide\\nIt's too strong, it won't fit\\nIt's too much, it's too tough\\nHe talk like this 'cause he can back it up\\nHe got a big ego, such a huge ego\\nI love his big ego, it's too much\\nHe walk like this 'cause he can back it up\\nUsually I'm humble, right now I don't choose\\nYou can leave with me or you could have the blues\\nSome call it arrogant, I call it confident\\nYou decide when you find on what I'm working with\\nDamn I know I'm killing you with them legs\\nBetter yet them thighs\\nMatter a fact it's my smile or maybe my eyes\\nBoy you a site to see, kind of something like me\\nIt's too big, it's too wide\\nIt's too strong, it won't fit\\nIt's too much, it's too tough\\nI talk like this 'cause I can back it up\\nI got a big ego, such a huge ego\\nBut he love my big ego, it's too much\\nI walk like this 'cause I can back it up\\nI, I walk like this 'cause I can back it up\\nI, I talk like this 'cause I can back it up\\nI, I can back it up, I can back it up\\nI walk like this 'cause I can back it up\\nIt's too big, it's too wide\\nIt's too strong, it won't fit\\nIt's too much, it's too tough\\nHe talk like this 'cause he can back it up\\nHe got a big ego, such a huge ego, such a huge ego\\nI love his big ego, it's too much\\nHe walk like this 'cause he can back it up\\nEgo so big, you must admit\\nI got every reason to feel like I'm that bitch\\nEgo so strong, if you ain't know\\nI don't need no beat, I can sing it with piano\""
            ]
          },
          "metadata": {
            "tags": []
          },
          "execution_count": 8
        }
      ]
    },
    {
      "cell_type": "markdown",
      "metadata": {
        "id": "YTadm105gzxw",
        "colab_type": "text"
      },
      "source": [
        "## Data Preparation"
      ]
    },
    {
      "cell_type": "code",
      "metadata": {
        "id": "jVNYP-qG8pDb",
        "colab_type": "code",
        "colab": {}
      },
      "source": [
        "def clean_lyrics(doc):\n",
        "  # stemmer = PorterStemmer()\n",
        "  # We don't really care about the line breaks. we want to see the lyrics as a single sequence\n",
        "  doc.replace('\\n', ' ') \n",
        "  tokens = doc.split()\n",
        "\n",
        "  # Remove the punctuation and only keep words with alphabet characters\n",
        "  re_punc = re.compile(f'[{re.escape(string.punctuation)}]') \n",
        "  tokens = [re_punc.sub('',w) for w in tokens] \n",
        "  tokens = [word for word in tokens if word.isalpha()]\n",
        "\n",
        "  # Remove stop words\n",
        "  stop_words = set(stopwords.words('english'))\n",
        "  tokens = [w for w in tokens if not w in stop_words]\n",
        "\n",
        "  # Remove 1 letter words and lower case everything\n",
        "  tokens = [word for word in tokens if len(word) >1]\n",
        "  tokens = [word.lower() for word in tokens]\n",
        "\n",
        "  # Stem the words using porter stemmer\n",
        "  # tokens = [stemmer.stem(word) for word in tokens]\n",
        "  return ' '.join(tokens)\n",
        "\n",
        "def is_english(doc):\n",
        "  tokens = doc.split()\n",
        "  counter = 0\n",
        "  # setting threshold for number of non-english words because contractions like didn't are not counted as english (room for improvement)\n",
        "  threshold = int(len(tokens) * 0.3)\n",
        "  for token in tokens:\n",
        "    if not wordnet.synsets(token):\n",
        "      counter +=1\n",
        "    if counter >= threshold:\n",
        "      return False\n",
        "  return True"
      ],
      "execution_count": 0,
      "outputs": []
    },
    {
      "cell_type": "code",
      "metadata": {
        "id": "vZmzSUhlRQ9d",
        "colab_type": "code",
        "colab": {
          "base_uri": "https://localhost:8080/",
          "height": 54
        },
        "outputId": "44736747-a1ec-4cf2-ec52-7b2232eb5158"
      },
      "source": [
        "clean_lyrics(df['lyrics'].head()[0])"
      ],
      "execution_count": 10,
      "outputs": [
        {
          "output_type": "execute_result",
          "data": {
            "text/plain": [
              "'oh baby you know im gonna cut right chase some women made like think created special purpose you know whats special you feel its baby lets get lost you dont need call work cause youre boss for real want show feel consider lucky thats big deal why well got key heart but aint gonna need id rather open body and show secrets didnt know inside no need lie its big wide its strong wont fit its much tough he talk like cause back he got big ego huge ego love big ego much he walk like cause back usually im humble right dont choose you leave could blues some call arrogant call confident you decide find im working damn know im killing legs better yet thighs matter fact smile maybe eyes boy site see kind something like its big wide its strong wont fit its much tough talk like cause back got big ego huge ego but love big ego much walk like cause back walk like cause back talk like cause back back back walk like cause back its big wide its strong wont fit its much tough he talk like cause back he got big ego huge ego huge ego love big ego much he walk like cause back ego big must admit got every reason feel like im bitch ego strong aint know dont need beat sing piano'"
            ]
          },
          "metadata": {
            "tags": []
          },
          "execution_count": 10
        }
      ]
    },
    {
      "cell_type": "code",
      "metadata": {
        "id": "YXVQRJicDzNj",
        "colab_type": "code",
        "colab": {}
      },
      "source": [
        "# Looks pretty good so we'll run the clean function on all the lyrics\n",
        "df['lyrics'] = df['lyrics'].astype(str).apply(lambda x: clean_lyrics(x))"
      ],
      "execution_count": 0,
      "outputs": []
    },
    {
      "cell_type": "code",
      "metadata": {
        "id": "Lv6Yfbj0WjG5",
        "colab_type": "code",
        "colab": {}
      },
      "source": [
        "df = df[df['lyrics'] != 'nan' ]"
      ],
      "execution_count": 0,
      "outputs": []
    },
    {
      "cell_type": "code",
      "metadata": {
        "id": "_BFWX833r3St",
        "colab_type": "code",
        "colab": {}
      },
      "source": [
        "df = df[df.apply(lambda x: is_english(x['lyrics']), axis=1)]"
      ],
      "execution_count": 0,
      "outputs": []
    },
    {
      "cell_type": "code",
      "metadata": {
        "id": "RfLerdwYEBp6",
        "colab_type": "code",
        "colab": {}
      },
      "source": [
        "df.to_csv('clean_lyrics.csv', index=False)"
      ],
      "execution_count": 0,
      "outputs": []
    },
    {
      "cell_type": "markdown",
      "metadata": {
        "id": "i8rivsOGlBLW",
        "colab_type": "text"
      },
      "source": [
        "## EDA"
      ]
    },
    {
      "cell_type": "code",
      "metadata": {
        "id": "jcD_T2VSumvP",
        "colab_type": "code",
        "colab": {}
      },
      "source": [
        "df = pd.read_csv('clean_lyrics.csv')"
      ],
      "execution_count": 0,
      "outputs": []
    },
    {
      "cell_type": "markdown",
      "metadata": {
        "id": "f2SnmZ9zlFes",
        "colab_type": "text"
      },
      "source": [
        "From running the cell below, we can see that the genres are not well distributed. The dataset is heavily weighted towards Rock"
      ]
    },
    {
      "cell_type": "code",
      "metadata": {
        "id": "kbvBUNvIkU0M",
        "colab_type": "code",
        "outputId": "cd9eae3b-d17d-4f4b-c36e-a53bf3e0cf2a",
        "colab": {
          "base_uri": "https://localhost:8080/",
          "height": 852
        }
      },
      "source": [
        "fig, ax = plt.subplots(figsize=(10,10)) \n",
        "\n",
        "counts = []\n",
        "for genre in df['genre'].unique().tolist():\n",
        "  print(f'{genre}: {df[df[\"genre\"] == genre][\"genre\"].count()}')\n",
        "  counts.append(df[df[\"genre\"] == genre][\"genre\"].count())\n",
        "  \n",
        "objects = df['genre'].unique().tolist()\n",
        "y_pos = np.arange(len(objects))\n",
        "plt.bar(y_pos, counts, align='center', alpha=0.5)\n",
        "plt.xticks(y_pos, objects, fontsize=10, rotation=90)\n",
        "plt.show()"
      ],
      "execution_count": 16,
      "outputs": [
        {
          "output_type": "stream",
          "text": [
            "Pop: 31235\n",
            "Hip-Hop: 19826\n",
            "Not Available: 16063\n",
            "Rock: 93297\n",
            "Metal: 20497\n",
            "Other: 3552\n",
            "Country: 13277\n",
            "Jazz: 6620\n",
            "Electronic: 6225\n",
            "Folk: 1584\n",
            "R&B: 2995\n",
            "Indie: 2748\n"
          ],
          "name": "stdout"
        },
        {
          "output_type": "display_data",
          "data": {
            "image/png": "[encoded data removed]",
            "text/plain": [
              "<Figure size 720x720 with 1 Axes>"
            ]
          },
          "metadata": {
            "tags": []
          }
        }
      ]
    },
    {
      "cell_type": "code",
      "metadata": {
        "id": "ZpXPuBtgsuNU",
        "colab_type": "code",
        "colab": {}
      },
      "source": [
        "# To narrow the focus of this project, we'll remove the Not Availbel and Other labels as well as labels with limited data\n",
        "df = df[df['genre'] != 'Not Available']\n",
        "df = df[df['genre'] != 'Other']\n",
        "df = df[df['genre'] != 'Folk']\n",
        "df = df[df['genre'] != 'Indie']\n",
        "df = df[df['genre'] != 'R&B']\n",
        "df = df[df['genre'] != 'Jazz']\n",
        "df = df[df['genre'] != 'Electronic']\n",
        "genres = df['genre'].unique().tolist()"
      ],
      "execution_count": 0,
      "outputs": []
    },
    {
      "cell_type": "code",
      "metadata": {
        "id": "rU8etRhkjJlM",
        "colab_type": "code",
        "outputId": "0052a8c7-c992-4e3d-eb3a-870703d2b8dd",
        "colab": {
          "base_uri": "https://localhost:8080/",
          "height": 694
        }
      },
      "source": [
        "df['strlen'] = df['lyrics'].str.len()\n",
        "print(df['strlen'].describe())\n",
        "fig, ax = plt.subplots(figsize=(10,6)) \n",
        "sn.distplot(df['strlen'],bins=200)"
      ],
      "execution_count": 18,
      "outputs": [
        {
          "output_type": "stream",
          "text": [
            "count    177368.000000\n",
            "mean        805.277649\n",
            "std         556.811785\n",
            "min          11.000000\n",
            "25%         463.000000\n",
            "50%         666.000000\n",
            "75%         955.000000\n",
            "max       28786.000000\n",
            "Name: strlen, dtype: float64\n"
          ],
          "name": "stdout"
        },
        {
          "output_type": "stream",
          "text": [
            "/usr/local/lib/python3.6/dist-packages/numpy/lib/histograms.py:839: RuntimeWarning: invalid value encountered in greater_equal\n",
            "  keep = (tmp_a >= first_edge)\n",
            "/usr/local/lib/python3.6/dist-packages/numpy/lib/histograms.py:840: RuntimeWarning: invalid value encountered in less_equal\n",
            "  keep &= (tmp_a <= last_edge)\n",
            "/usr/local/lib/python3.6/dist-packages/statsmodels/nonparametric/kde.py:447: RuntimeWarning: invalid value encountered in greater\n",
            "  X = X[np.logical_and(X > clip[0], X < clip[1])] # won't work for two columns.\n",
            "/usr/local/lib/python3.6/dist-packages/statsmodels/nonparametric/kde.py:447: RuntimeWarning: invalid value encountered in less\n",
            "  X = X[np.logical_and(X > clip[0], X < clip[1])] # won't work for two columns.\n"
          ],
          "name": "stderr"
        },
        {
          "output_type": "execute_result",
          "data": {
            "text/plain": [
              "<matplotlib.axes._subplots.AxesSubplot at 0x7fe9e4955630>"
            ]
          },
          "metadata": {
            "tags": []
          },
          "execution_count": 18
        },
        {
          "output_type": "display_data",
          "data": {
            "image/png": "[encoded data removed]",
            "text/plain": [
              "<Figure size 720x432 with 1 Axes>"
            ]
          },
          "metadata": {
            "tags": []
          }
        }
      ]
    },
    {
      "cell_type": "code",
      "metadata": {
        "id": "Feuy0Xt2tGiI",
        "colab_type": "code",
        "colab": {}
      },
      "source": [
        "df = df[df['strlen'] >= 30]\n",
        "df = df[df['strlen'] <= 2200]"
      ],
      "execution_count": 0,
      "outputs": []
    },
    {
      "cell_type": "code",
      "metadata": {
        "id": "Ndx76-ZHxw4k",
        "colab_type": "code",
        "colab": {}
      },
      "source": [
        "lines = df['lyrics'].tolist()"
      ],
      "execution_count": 0,
      "outputs": []
    },
    {
      "cell_type": "code",
      "metadata": {
        "id": "1fOnMOY2PmOn",
        "colab_type": "code",
        "colab": {}
      },
      "source": [
        "tokenizer = Tokenizer()\n",
        "tokenizer.fit_on_texts(lines)"
      ],
      "execution_count": 0,
      "outputs": []
    },
    {
      "cell_type": "code",
      "metadata": {
        "id": "eazpaCgYPn5g",
        "colab_type": "code",
        "outputId": "f23e9d05-c6d6-4a41-9ba4-d8b22b493ba4",
        "colab": {
          "base_uri": "https://localhost:8080/",
          "height": 51
        }
      },
      "source": [
        "vocab_size = len(tokenizer.word_index) + 1\n",
        "print(f'Vocab Size: {vocab_size}')\n",
        "max_length = max([len(s.split()) for s in lines])\n",
        "print(f'Max Length: {max_length}')"
      ],
      "execution_count": 22,
      "outputs": [
        {
          "output_type": "stream",
          "text": [
            "Vocab Size: 168290\n",
            "Max Length: 472\n"
          ],
          "name": "stdout"
        }
      ]
    },
    {
      "cell_type": "code",
      "metadata": {
        "id": "LhLFjlWSLFaY",
        "colab_type": "code",
        "colab": {}
      },
      "source": [
        "def encode_docs(vocab_size, max_length, docs):\n",
        "  encoded = tokenizer.texts_to_sequences(docs)\n",
        "  padded = pad_sequences(encoded, maxlen=max_length, padding='post')\n",
        "  return padded"
      ],
      "execution_count": 0,
      "outputs": []
    },
    {
      "cell_type": "code",
      "metadata": {
        "id": "eEklrwwGMvKw",
        "colab_type": "code",
        "colab": {}
      },
      "source": [
        "def define_model(vocab_size, max_length):\n",
        "  inputs1 = Input(shape=(max_length,))\n",
        "  embedding1 = Embedding(vocab_size, 100)(inputs1)\n",
        "  conv1 = Conv1D(filters=32, kernel_size=4, activation='relu')(embedding1)\n",
        "  drop1 = Dropout(0.5)(conv1)\n",
        "  pool1 = MaxPooling1D(pool_size=2)(drop1)\n",
        "  flat1 = Flatten()(pool1)\n",
        "\n",
        "  inputs2 = Input(shape=(max_length,))\n",
        "  embedding2 = Embedding(vocab_size, 100)(inputs2)\n",
        "  conv2 = Conv1D(filters=32, kernel_size=6, activation='relu')(embedding2)\n",
        "  drop2 = Dropout(0.5)(conv2)\n",
        "  pool2 = MaxPooling1D(pool_size=2)(drop2)\n",
        "  flat2 = Flatten()(pool2)\n",
        "\n",
        "  inputs3 = Input(shape=(max_length,))\n",
        "  embedding3 = Embedding(vocab_size, 100)(inputs3)\n",
        "  conv3 = Conv1D(filters=32, kernel_size=8, activation='relu')(embedding3)\n",
        "  drop3 = Dropout(0.5)(conv3)\n",
        "  pool3 = MaxPooling1D(pool_size=2)(drop3)\n",
        "  flat3 = Flatten()(pool3)\n",
        "\n",
        "  merged = concatenate([flat1, flat2, flat3])\n",
        "  dense1 = Dense(64, activation='relu')(merged)\n",
        "  dense2 = Dense(32, activation='relu')(dense1)\n",
        "  outputs = Dense(len(genres), activation='softmax')(dense2)\n",
        "  model = Model(inputs=[inputs1, inputs2, inputs3], outputs=outputs)\n",
        "  model.compile(loss='categorical_crossentropy', optimizer='adam', metrics=['accuracy'])\n",
        "  model.summary()\n",
        "  plot_model(model, to_file='model.png', show_shapes=True)\n",
        "  return model"
      ],
      "execution_count": 0,
      "outputs": []
    },
    {
      "cell_type": "code",
      "metadata": {
        "id": "Z7sOeHKHOVX_",
        "colab_type": "code",
        "colab": {}
      },
      "source": [
        "def test_model(model):\n",
        "  rev_genre_dict = dict(zip(range(len(genres)), genres))\n",
        "  preds = model.predict([Xtest, Xtest, Xtest])\n",
        "  preds = [np.argmax(pred) for pred in preds]\n",
        "  labels = [np.argmax(label) for label in ytest]\n",
        "  print(classification_report(labels, preds))\n",
        "  cm = confusion_matrix(labels, preds)\n",
        "  cm_df = pd.DataFrame(cm, index=genres, columns=genres)\n",
        "  fig, ax = plt.subplots(figsize=(18,11)) \n",
        "  sn.set(font_scale=1.4)\n",
        "  sn.heatmap(cm_df, annot=True, annot_kws={'size': 12}, linewidths=0.5, cmap=\"Blues\") "
      ],
      "execution_count": 0,
      "outputs": []
    },
    {
      "cell_type": "code",
      "metadata": {
        "id": "uu7xsgMCM6oH",
        "colab_type": "code",
        "outputId": "a80c708b-6236-4c8b-cd13-a9d652c93be9",
        "colab": {
          "base_uri": "https://localhost:8080/",
          "height": 34
        }
      },
      "source": [
        "X = encode_docs(tokenizer, max_length, lines)\n",
        "genre_dict = dict(zip(genres, range(len(genres))))\n",
        "print(genre_dict)\n",
        "y = df['genre'].astype(str).apply(lambda x: genre_dict[x]).tolist()\n",
        "y = to_categorical(y, num_classes=len(genres))"
      ],
      "execution_count": 26,
      "outputs": [
        {
          "output_type": "stream",
          "text": [
            "{'Pop': 0, 'Hip-Hop': 1, 'Rock': 2, 'Metal': 3, 'Country': 4}\n"
          ],
          "name": "stdout"
        }
      ]
    },
    {
      "cell_type": "code",
      "metadata": {
        "id": "YIAHP8ZPO-Ku",
        "colab_type": "code",
        "colab": {}
      },
      "source": [
        "from sklearn.model_selection import train_test_split\n",
        "(Xtrain, Xtest, ytrain, ytest) = train_test_split(X,y,test_size=0.2, random_state=42)"
      ],
      "execution_count": 0,
      "outputs": []
    },
    {
      "cell_type": "code",
      "metadata": {
        "id": "VHM8nDGHNJAw",
        "colab_type": "code",
        "outputId": "59552613-5f75-4ea4-c5a7-04659a9efdc5",
        "colab": {
          "base_uri": "https://localhost:8080/",
          "height": 1000
        }
      },
      "source": [
        "model = define_model(vocab_size, max_length)\n",
        "model.fit([Xtrain, Xtrain, Xtrain], ytrain, epochs=5, batch_size=64)\n",
        "model.save('model.h5')"
      ],
      "execution_count": 28,
      "outputs": [
        {
          "output_type": "stream",
          "text": [
            "WARNING:tensorflow:From /usr/local/lib/python3.6/dist-packages/tensorflow_core/python/keras/initializers.py:119: calling RandomUniform.__init__ (from tensorflow.python.ops.init_ops) with dtype is deprecated and will be removed in a future version.\n",
            "Instructions for updating:\n",
            "Call initializer instance with the dtype argument instead of passing it to the constructor\n",
            "WARNING:tensorflow:From /usr/local/lib/python3.6/dist-packages/tensorflow_core/python/ops/resource_variable_ops.py:1630: calling BaseResourceVariable.__init__ (from tensorflow.python.ops.resource_variable_ops) with constraint is deprecated and will be removed in a future version.\n",
            "Instructions for updating:\n",
            "If using Keras pass *_constraint arguments to layers.\n",
            "Model: \"model\"\n",
            "__________________________________________________________________________________________________\n",
            "Layer (type)                    Output Shape         Param #     Connected to                     \n",
            "==================================================================================================\n",
            "input_1 (InputLayer)            [(None, 472)]        0                                            \n",
            "__________________________________________________________________________________________________\n",
            "input_2 (InputLayer)            [(None, 472)]        0                                            \n",
            "__________________________________________________________________________________________________\n",
            "input_3 (InputLayer)            [(None, 472)]        0                                            \n",
            "__________________________________________________________________________________________________\n",
            "embedding (Embedding)           (None, 472, 100)     16829000    input_1[0][0]                    \n",
            "__________________________________________________________________________________________________\n",
            "embedding_1 (Embedding)         (None, 472, 100)     16829000    input_2[0][0]                    \n",
            "__________________________________________________________________________________________________\n",
            "embedding_2 (Embedding)         (None, 472, 100)     16829000    input_3[0][0]                    \n",
            "__________________________________________________________________________________________________\n",
            "conv1d (Conv1D)                 (None, 469, 32)      12832       embedding[0][0]                  \n",
            "__________________________________________________________________________________________________\n",
            "conv1d_1 (Conv1D)               (None, 467, 32)      19232       embedding_1[0][0]                \n",
            "__________________________________________________________________________________________________\n",
            "conv1d_2 (Conv1D)               (None, 465, 32)      25632       embedding_2[0][0]                \n",
            "__________________________________________________________________________________________________\n",
            "dropout (Dropout)               (None, 469, 32)      0           conv1d[0][0]                     \n",
            "__________________________________________________________________________________________________\n",
            "dropout_1 (Dropout)             (None, 467, 32)      0           conv1d_1[0][0]                   \n",
            "__________________________________________________________________________________________________\n",
            "dropout_2 (Dropout)             (None, 465, 32)      0           conv1d_2[0][0]                   \n",
            "__________________________________________________________________________________________________\n",
            "max_pooling1d (MaxPooling1D)    (None, 234, 32)      0           dropout[0][0]                    \n",
            "__________________________________________________________________________________________________\n",
            "max_pooling1d_1 (MaxPooling1D)  (None, 233, 32)      0           dropout_1[0][0]                  \n",
            "__________________________________________________________________________________________________\n",
            "max_pooling1d_2 (MaxPooling1D)  (None, 232, 32)      0           dropout_2[0][0]                  \n",
            "__________________________________________________________________________________________________\n",
            "flatten (Flatten)               (None, 7488)         0           max_pooling1d[0][0]              \n",
            "__________________________________________________________________________________________________\n",
            "flatten_1 (Flatten)             (None, 7456)         0           max_pooling1d_1[0][0]            \n",
            "__________________________________________________________________________________________________\n",
            "flatten_2 (Flatten)             (None, 7424)         0           max_pooling1d_2[0][0]            \n",
            "__________________________________________________________________________________________________\n",
            "concatenate (Concatenate)       (None, 22368)        0           flatten[0][0]                    \n",
            "                                                                 flatten_1[0][0]                  \n",
            "                                                                 flatten_2[0][0]                  \n",
            "__________________________________________________________________________________________________\n",
            "dense (Dense)                   (None, 64)           1431616     concatenate[0][0]                \n",
            "__________________________________________________________________________________________________\n",
            "dense_1 (Dense)                 (None, 32)           2080        dense[0][0]                      \n",
            "__________________________________________________________________________________________________\n",
            "dense_2 (Dense)                 (None, 5)            165         dense_1[0][0]                    \n",
            "==================================================================================================\n",
            "Total params: 51,978,557\n",
            "Trainable params: 51,978,557\n",
            "Non-trainable params: 0\n",
            "__________________________________________________________________________________________________\n",
            "Train on 137139 samples\n",
            "Epoch 1/5\n",
            "137139/137139 [==============================] - 57s 414us/sample - loss: 0.8956 - acc: 0.6579\n",
            "Epoch 2/5\n",
            "137139/137139 [==============================] - 51s 368us/sample - loss: 0.6810 - acc: 0.7378\n",
            "Epoch 3/5\n",
            "137139/137139 [==============================] - 50s 367us/sample - loss: 0.4646 - acc: 0.8230\n",
            "Epoch 4/5\n",
            "137139/137139 [==============================] - 50s 367us/sample - loss: 0.3037 - acc: 0.8869\n",
            "Epoch 5/5\n",
            "137139/137139 [==============================] - 50s 367us/sample - loss: 0.2187 - acc: 0.9205\n"
          ],
          "name": "stdout"
        }
      ]
    },
    {
      "cell_type": "code",
      "metadata": {
        "id": "_sM-SKW7PBjx",
        "colab_type": "code",
        "outputId": "00480f1a-f1d5-4f43-f89a-6601c517d567",
        "colab": {
          "base_uri": "https://localhost:8080/",
          "height": 850
        }
      },
      "source": [
        "test_model(model)"
      ],
      "execution_count": 29,
      "outputs": [
        {
          "output_type": "stream",
          "text": [
            "              precision    recall  f1-score   support\n",
            "\n",
            "           0       0.55      0.38      0.45      6175\n",
            "           1       0.85      0.71      0.77      2936\n",
            "           2       0.69      0.84      0.76     18507\n",
            "           3       0.74      0.52      0.62      4008\n",
            "           4       0.52      0.44      0.48      2659\n",
            "\n",
            "    accuracy                           0.68     34285\n",
            "   macro avg       0.67      0.58      0.62     34285\n",
            "weighted avg       0.67      0.68      0.67     34285\n",
            "\n"
          ],
          "name": "stdout"
        },
        {
          "output_type": "display_data",
          "data": {
            "image/png": "[encoded data removed]",
            "text/plain": [
              "<Figure size 1296x792 with 2 Axes>"
            ]
          },
          "metadata": {
            "tags": []
          }
        }
      ]
    },
    {
      "cell_type": "code",
      "metadata": {
        "id": "1rFe2CHuAHO4",
        "colab_type": "code",
        "colab": {}
      },
      "source": [
        ""
      ],
      "execution_count": 0,
      "outputs": []
    }
  ]
}