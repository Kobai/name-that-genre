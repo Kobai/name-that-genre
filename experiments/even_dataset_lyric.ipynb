{
  "nbformat": 4,
  "nbformat_minor": 0,
  "metadata": {
    "colab": {
      "name": "even_dataset_lyric.ipynb",
      "provenance": [],
      "toc_visible": true,
      "include_colab_link": true
    },
    "kernelspec": {
      "name": "python3",
      "display_name": "Python 3"
    },
    "accelerator": "GPU"
  },
  "cells": [
    {
      "cell_type": "markdown",
      "metadata": {
        "id": "view-in-github",
        "colab_type": "text"
      },
      "source": [
        "<a href=\"https://colab.research.google.com/github/Kobai/name-that-genre/blob/master/experiments/even_dataset_lyric.ipynb\" target=\"_parent\"><img src=\"https://colab.research.google.com/assets/colab-badge.svg\" alt=\"Open In Colab\"/></a>"
      ]
    },
    {
      "cell_type": "code",
      "metadata": {
        "id": "2MbFBvjqgpFd",
        "colab_type": "code",
        "colab": {}
      },
      "source": [
        "import string\n",
        "import re\n",
        "from os import listdir\n",
        "from numpy import array\n",
        "from tensorflow.keras.preprocessing.text import Tokenizer\n",
        "from tensorflow.keras.preprocessing.sequence import pad_sequences\n",
        "from tensorflow.keras.utils import plot_model, to_categorical\n",
        "from tensorflow.keras.models import Sequential, Model\n",
        "from tensorflow.keras.layers import Dense, Flatten, Embedding, Conv1D, MaxPooling1D, Input, Dropout, concatenate\n",
        "from sklearn.metrics import confusion_matrix, classification_report\n",
        "from matplotlib import pyplot as plt\n",
        "import seaborn as sn\n",
        "import numpy as np\n",
        "import nltk\n",
        "nltk.download('stopwords')\n",
        "nltk.download('wordnet')\n",
        "from nltk.corpus import stopwords, wordnet\n",
        "from nltk.stem import PorterStemmer\n",
        "from collections import Counter\n",
        "import pandas as pd"
      ],
      "execution_count": 0,
      "outputs": []
    },
    {
      "cell_type": "markdown",
      "metadata": {
        "id": "z_PCqkGBwCei",
        "colab_type": "text"
      },
      "source": [
        "Lyrics data was acquired from https://www.kaggle.com/gyani95/380000-lyrics-from-metrolyrics"
      ]
    },
    {
      "cell_type": "code",
      "metadata": {
        "id": "W_DWgYRE1RLz",
        "colab_type": "code",
        "colab": {}
      },
      "source": [
        "from zipfile import ZipFile\n",
        "with ZipFile('lyrics.zip', 'r') as zipObj:\n",
        "  zipObj.extractall()"
      ],
      "execution_count": 0,
      "outputs": []
    },
    {
      "cell_type": "code",
      "metadata": {
        "id": "wg5HJtQg1-95",
        "colab_type": "code",
        "colab": {}
      },
      "source": [
        "import pandas as pd\n",
        "df = pd.read_csv('lyrics.csv')"
      ],
      "execution_count": 0,
      "outputs": []
    },
    {
      "cell_type": "code",
      "metadata": {
        "id": "HatNlkVd2IYt",
        "colab_type": "code",
        "outputId": "c47005f6-4ae5-45f1-f177-205e2ea025ad",
        "colab": {
          "base_uri": "https://localhost:8080/",
          "height": 204
        }
      },
      "source": [
        "df.head()"
      ],
      "execution_count": 0,
      "outputs": [
        {
          "output_type": "execute_result",
          "data": {
            "text/html": [
              "<div>\n",
              "<style scoped>\n",
              "    .dataframe tbody tr th:only-of-type {\n",
              "        vertical-align: middle;\n",
              "    }\n",
              "\n",
              "    .dataframe tbody tr th {\n",
              "        vertical-align: top;\n",
              "    }\n",
              "\n",
              "    .dataframe thead th {\n",
              "        text-align: right;\n",
              "    }\n",
              "</style>\n",
              "<table border=\"1\" class=\"dataframe\">\n",
              "  <thead>\n",
              "    <tr style=\"text-align: right;\">\n",
              "      <th></th>\n",
              "      <th>index</th>\n",
              "      <th>song</th>\n",
              "      <th>year</th>\n",
              "      <th>artist</th>\n",
              "      <th>genre</th>\n",
              "      <th>lyrics</th>\n",
              "    </tr>\n",
              "  </thead>\n",
              "  <tbody>\n",
              "    <tr>\n",
              "      <th>0</th>\n",
              "      <td>0</td>\n",
              "      <td>ego-remix</td>\n",
              "      <td>2009</td>\n",
              "      <td>beyonce-knowles</td>\n",
              "      <td>Pop</td>\n",
              "      <td>Oh baby, how you doing?\\nYou know I'm gonna cu...</td>\n",
              "    </tr>\n",
              "    <tr>\n",
              "      <th>1</th>\n",
              "      <td>1</td>\n",
              "      <td>then-tell-me</td>\n",
              "      <td>2009</td>\n",
              "      <td>beyonce-knowles</td>\n",
              "      <td>Pop</td>\n",
              "      <td>playin' everything so easy,\\nit's like you see...</td>\n",
              "    </tr>\n",
              "    <tr>\n",
              "      <th>2</th>\n",
              "      <td>2</td>\n",
              "      <td>honesty</td>\n",
              "      <td>2009</td>\n",
              "      <td>beyonce-knowles</td>\n",
              "      <td>Pop</td>\n",
              "      <td>If you search\\nFor tenderness\\nIt isn't hard t...</td>\n",
              "    </tr>\n",
              "    <tr>\n",
              "      <th>3</th>\n",
              "      <td>3</td>\n",
              "      <td>you-are-my-rock</td>\n",
              "      <td>2009</td>\n",
              "      <td>beyonce-knowles</td>\n",
              "      <td>Pop</td>\n",
              "      <td>Oh oh oh I, oh oh oh I\\n[Verse 1:]\\nIf I wrote...</td>\n",
              "    </tr>\n",
              "    <tr>\n",
              "      <th>4</th>\n",
              "      <td>4</td>\n",
              "      <td>black-culture</td>\n",
              "      <td>2009</td>\n",
              "      <td>beyonce-knowles</td>\n",
              "      <td>Pop</td>\n",
              "      <td>Party the people, the people the party it's po...</td>\n",
              "    </tr>\n",
              "  </tbody>\n",
              "</table>\n",
              "</div>"
            ],
            "text/plain": [
              "   index  ...                                             lyrics\n",
              "0      0  ...  Oh baby, how you doing?\\nYou know I'm gonna cu...\n",
              "1      1  ...  playin' everything so easy,\\nit's like you see...\n",
              "2      2  ...  If you search\\nFor tenderness\\nIt isn't hard t...\n",
              "3      3  ...  Oh oh oh I, oh oh oh I\\n[Verse 1:]\\nIf I wrote...\n",
              "4      4  ...  Party the people, the people the party it's po...\n",
              "\n",
              "[5 rows x 6 columns]"
            ]
          },
          "metadata": {
            "tags": []
          },
          "execution_count": 5
        }
      ]
    },
    {
      "cell_type": "code",
      "metadata": {
        "id": "lYD0DGl32KUI",
        "colab_type": "code",
        "colab": {}
      },
      "source": [
        "# We'll drop these columns because we want to classify genres only by lyrics\n",
        "df = df.drop(columns=['index', 'song', 'year', 'artist'])"
      ],
      "execution_count": 0,
      "outputs": []
    },
    {
      "cell_type": "code",
      "metadata": {
        "id": "34k9lR4l7j5J",
        "colab_type": "code",
        "colab": {}
      },
      "source": [
        "df.to_csv('small_lyrics.csv', index=False)"
      ],
      "execution_count": 0,
      "outputs": []
    },
    {
      "cell_type": "code",
      "metadata": {
        "id": "7u8qWLWs8nTN",
        "colab_type": "code",
        "outputId": "fd65d7c0-1dc4-478e-c618-c60b8c71b913",
        "colab": {
          "base_uri": "https://localhost:8080/",
          "height": 54
        }
      },
      "source": [
        "# Print out of the lyrics for the first song. As we can see, there's a lot of cleaning to be done\n",
        "df['lyrics'].head()[0]"
      ],
      "execution_count": 0,
      "outputs": [
        {
          "output_type": "execute_result",
          "data": {
            "text/plain": [
              "\"Oh baby, how you doing?\\nYou know I'm gonna cut right to the chase\\nSome women were made but me, myself\\nI like to think that I was created for a special purpose\\nYou know, what's more special than you? You feel me\\nIt's on baby, let's get lost\\nYou don't need to call into work 'cause you're the boss\\nFor real, want you to show me how you feel\\nI consider myself lucky, that's a big deal\\nWhy? Well, you got the key to my heart\\nBut you ain't gonna need it, I'd rather you open up my body\\nAnd show me secrets, you didn't know was inside\\nNo need for me to lie\\nIt's too big, it's too wide\\nIt's too strong, it won't fit\\nIt's too much, it's too tough\\nHe talk like this 'cause he can back it up\\nHe got a big ego, such a huge ego\\nI love his big ego, it's too much\\nHe walk like this 'cause he can back it up\\nUsually I'm humble, right now I don't choose\\nYou can leave with me or you could have the blues\\nSome call it arrogant, I call it confident\\nYou decide when you find on what I'm working with\\nDamn I know I'm killing you with them legs\\nBetter yet them thighs\\nMatter a fact it's my smile or maybe my eyes\\nBoy you a site to see, kind of something like me\\nIt's too big, it's too wide\\nIt's too strong, it won't fit\\nIt's too much, it's too tough\\nI talk like this 'cause I can back it up\\nI got a big ego, such a huge ego\\nBut he love my big ego, it's too much\\nI walk like this 'cause I can back it up\\nI, I walk like this 'cause I can back it up\\nI, I talk like this 'cause I can back it up\\nI, I can back it up, I can back it up\\nI walk like this 'cause I can back it up\\nIt's too big, it's too wide\\nIt's too strong, it won't fit\\nIt's too much, it's too tough\\nHe talk like this 'cause he can back it up\\nHe got a big ego, such a huge ego, such a huge ego\\nI love his big ego, it's too much\\nHe walk like this 'cause he can back it up\\nEgo so big, you must admit\\nI got every reason to feel like I'm that bitch\\nEgo so strong, if you ain't know\\nI don't need no beat, I can sing it with piano\""
            ]
          },
          "metadata": {
            "tags": []
          },
          "execution_count": 8
        }
      ]
    },
    {
      "cell_type": "markdown",
      "metadata": {
        "id": "YTadm105gzxw",
        "colab_type": "text"
      },
      "source": [
        "## Data Preparation"
      ]
    },
    {
      "cell_type": "code",
      "metadata": {
        "id": "jVNYP-qG8pDb",
        "colab_type": "code",
        "colab": {}
      },
      "source": [
        "def clean_lyrics(doc):\n",
        "  # stemmer = PorterStemmer()\n",
        "  # We don't really care about the line breaks. we want to see the lyrics as a single sequence\n",
        "  doc.replace('\\n', ' ') \n",
        "  tokens = doc.split()\n",
        "\n",
        "  # Remove the punctuation and only keep words with alphabet characters\n",
        "  re_punc = re.compile(f'[{re.escape(string.punctuation)}]') \n",
        "  tokens = [re_punc.sub('',w) for w in tokens] \n",
        "  tokens = [word for word in tokens if word.isalpha()]\n",
        "\n",
        "  # Remove stop words\n",
        "  stop_words = set(stopwords.words('english'))\n",
        "  tokens = [w for w in tokens if not w in stop_words]\n",
        "\n",
        "  # Remove 1 letter words and lower case everything\n",
        "  tokens = [word for word in tokens if len(word) >1]\n",
        "  tokens = [word.lower() for word in tokens]\n",
        "\n",
        "  # Stem the words using porter stemmer\n",
        "  # tokens = [stemmer.stem(word) for word in tokens]\n",
        "  return ' '.join(tokens)\n",
        "\n",
        "def is_english(doc):\n",
        "  tokens = doc.split()\n",
        "  counter = 0\n",
        "  # setting threshold for number of non-english words because contractions like didn't are not counted as english (room for improvement)\n",
        "  threshold = int(len(tokens) * 0.3)\n",
        "  for token in tokens:\n",
        "    if not wordnet.synsets(token):\n",
        "      counter +=1\n",
        "    if counter >= threshold:\n",
        "      return False\n",
        "  return True"
      ],
      "execution_count": 0,
      "outputs": []
    },
    {
      "cell_type": "code",
      "metadata": {
        "id": "vZmzSUhlRQ9d",
        "colab_type": "code",
        "outputId": "44736747-a1ec-4cf2-ec52-7b2232eb5158",
        "colab": {
          "base_uri": "https://localhost:8080/",
          "height": 54
        }
      },
      "source": [
        "clean_lyrics(df['lyrics'].head()[0])"
      ],
      "execution_count": 0,
      "outputs": [
        {
          "output_type": "execute_result",
          "data": {
            "text/plain": [
              "'oh baby you know im gonna cut right chase some women made like think created special purpose you know whats special you feel its baby lets get lost you dont need call work cause youre boss for real want show feel consider lucky thats big deal why well got key heart but aint gonna need id rather open body and show secrets didnt know inside no need lie its big wide its strong wont fit its much tough he talk like cause back he got big ego huge ego love big ego much he walk like cause back usually im humble right dont choose you leave could blues some call arrogant call confident you decide find im working damn know im killing legs better yet thighs matter fact smile maybe eyes boy site see kind something like its big wide its strong wont fit its much tough talk like cause back got big ego huge ego but love big ego much walk like cause back walk like cause back talk like cause back back back walk like cause back its big wide its strong wont fit its much tough he talk like cause back he got big ego huge ego huge ego love big ego much he walk like cause back ego big must admit got every reason feel like im bitch ego strong aint know dont need beat sing piano'"
            ]
          },
          "metadata": {
            "tags": []
          },
          "execution_count": 10
        }
      ]
    },
    {
      "cell_type": "code",
      "metadata": {
        "id": "YXVQRJicDzNj",
        "colab_type": "code",
        "colab": {}
      },
      "source": [
        "# Looks pretty good so we'll run the clean function on all the lyrics\n",
        "df['lyrics'] = df['lyrics'].astype(str).apply(lambda x: clean_lyrics(x))"
      ],
      "execution_count": 0,
      "outputs": []
    },
    {
      "cell_type": "code",
      "metadata": {
        "id": "Lv6Yfbj0WjG5",
        "colab_type": "code",
        "colab": {}
      },
      "source": [
        "df = df[df['lyrics'] != 'nan' ]"
      ],
      "execution_count": 0,
      "outputs": []
    },
    {
      "cell_type": "code",
      "metadata": {
        "id": "_BFWX833r3St",
        "colab_type": "code",
        "colab": {}
      },
      "source": [
        "df = df[df.apply(lambda x: is_english(x['lyrics']), axis=1)]"
      ],
      "execution_count": 0,
      "outputs": []
    },
    {
      "cell_type": "code",
      "metadata": {
        "id": "RfLerdwYEBp6",
        "colab_type": "code",
        "colab": {}
      },
      "source": [
        "df.to_csv('clean_lyrics.csv', index=False)"
      ],
      "execution_count": 0,
      "outputs": []
    },
    {
      "cell_type": "markdown",
      "metadata": {
        "id": "i8rivsOGlBLW",
        "colab_type": "text"
      },
      "source": [
        "## EDA"
      ]
    },
    {
      "cell_type": "code",
      "metadata": {
        "id": "jcD_T2VSumvP",
        "colab_type": "code",
        "colab": {}
      },
      "source": [
        "df = pd.read_csv('clean_lyrics.csv')"
      ],
      "execution_count": 0,
      "outputs": []
    },
    {
      "cell_type": "markdown",
      "metadata": {
        "id": "f2SnmZ9zlFes",
        "colab_type": "text"
      },
      "source": [
        "From running the cell below, we can see that the genres are not well distributed. The dataset is heavily weighted towards Rock"
      ]
    },
    {
      "cell_type": "code",
      "metadata": {
        "id": "kbvBUNvIkU0M",
        "colab_type": "code",
        "outputId": "ab12740f-bf67-4a2b-fd9c-29965318ea41",
        "colab": {
          "base_uri": "https://localhost:8080/",
          "height": 855
        }
      },
      "source": [
        "fig, ax = plt.subplots(figsize=(10,10)) \n",
        "\n",
        "counts = []\n",
        "for genre in df['genre'].unique().tolist():\n",
        "  print(f'{genre}: {df[df[\"genre\"] == genre][\"genre\"].count()}')\n",
        "  counts.append(df[df[\"genre\"] == genre][\"genre\"].count())\n",
        "  \n",
        "objects = df['genre'].unique().tolist()\n",
        "y_pos = np.arange(len(objects))\n",
        "plt.bar(y_pos, counts, align='center', alpha=0.5)\n",
        "plt.xticks(y_pos, objects, fontsize=10, rotation=90)\n",
        "plt.show()"
      ],
      "execution_count": 166,
      "outputs": [
        {
          "output_type": "stream",
          "text": [
            "Pop: 31235\n",
            "Hip-Hop: 19826\n",
            "Not Available: 16063\n",
            "Rock: 93297\n",
            "Metal: 20497\n",
            "Other: 3552\n",
            "Country: 13277\n",
            "Jazz: 6620\n",
            "Electronic: 6225\n",
            "Folk: 1584\n",
            "R&B: 2995\n",
            "Indie: 2748\n"
          ],
          "name": "stdout"
        },
        {
          "output_type": "display_data",
          "data": {
            "image/png": "[encoded data removed]",
            "text/plain": [
              "<Figure size 720x720 with 1 Axes>"
            ]
          },
          "metadata": {
            "tags": []
          }
        }
      ]
    },
    {
      "cell_type": "code",
      "metadata": {
        "id": "ZpXPuBtgsuNU",
        "colab_type": "code",
        "colab": {
          "base_uri": "https://localhost:8080/",
          "height": 34
        },
        "outputId": "71533fca-ce07-41c2-8b9e-b7ff34be3330"
      },
      "source": [
        "# To narrow the focus of this project, we'll remove the Not Availbel and Other labels as well as labels with limited data\n",
        "df = df[df['genre'] != 'Not Available']\n",
        "df = df[df['genre'] != 'Other']\n",
        "df = df[df['genre'] != 'Folk']\n",
        "df = df[df['genre'] != 'Indie']\n",
        "df = df[df['genre'] != 'R&B']\n",
        "df = df[df['genre'] != 'Jazz']\n",
        "df = df[df['genre'] != 'Electronic']\n",
        "genres = df['genre'].unique().tolist()\n",
        "print(genres)"
      ],
      "execution_count": 167,
      "outputs": [
        {
          "output_type": "stream",
          "text": [
            "['Pop', 'Hip-Hop', 'Rock', 'Metal', 'Country']\n"
          ],
          "name": "stdout"
        }
      ]
    },
    {
      "cell_type": "code",
      "metadata": {
        "id": "ggTBLjjgd4xT",
        "colab_type": "code",
        "colab": {}
      },
      "source": [
        "to_drop = df[df['genre'] == 'Rock'].index.tolist()[:45000]\n",
        "df = df.drop(to_drop)"
      ],
      "execution_count": 0,
      "outputs": []
    },
    {
      "cell_type": "code",
      "metadata": {
        "id": "rU8etRhkjJlM",
        "colab_type": "code",
        "outputId": "458e52ee-fde2-4252-b7b1-f4588ff5b059",
        "colab": {
          "base_uri": "https://localhost:8080/",
          "height": 710
        }
      },
      "source": [
        "df['strlen'] = df['lyrics'].str.len()\n",
        "print(df['strlen'].describe())\n",
        "fig, ax = plt.subplots(figsize=(10,6)) \n",
        "sn.distplot(df['strlen'],bins=200)"
      ],
      "execution_count": 169,
      "outputs": [
        {
          "output_type": "stream",
          "text": [
            "count    132768.000000\n",
            "mean        852.507788\n",
            "std         599.076227\n",
            "min          11.000000\n",
            "25%         474.000000\n",
            "50%         689.000000\n",
            "75%        1015.000000\n",
            "max       28786.000000\n",
            "Name: strlen, dtype: float64\n"
          ],
          "name": "stdout"
        },
        {
          "output_type": "stream",
          "text": [
            "/usr/local/lib/python3.6/dist-packages/numpy/lib/histograms.py:839: RuntimeWarning: invalid value encountered in greater_equal\n",
            "  keep = (tmp_a >= first_edge)\n",
            "/usr/local/lib/python3.6/dist-packages/numpy/lib/histograms.py:840: RuntimeWarning: invalid value encountered in less_equal\n",
            "  keep &= (tmp_a <= last_edge)\n",
            "/usr/local/lib/python3.6/dist-packages/statsmodels/nonparametric/kde.py:447: RuntimeWarning: invalid value encountered in greater\n",
            "  X = X[np.logical_and(X > clip[0], X < clip[1])] # won't work for two columns.\n",
            "/usr/local/lib/python3.6/dist-packages/statsmodels/nonparametric/kde.py:447: RuntimeWarning: invalid value encountered in less\n",
            "  X = X[np.logical_and(X > clip[0], X < clip[1])] # won't work for two columns.\n"
          ],
          "name": "stderr"
        },
        {
          "output_type": "execute_result",
          "data": {
            "text/plain": [
              "<matplotlib.axes._subplots.AxesSubplot at 0x7fe553f75f60>"
            ]
          },
          "metadata": {
            "tags": []
          },
          "execution_count": 169
        },
        {
          "output_type": "display_data",
          "data": {
            "image/png": "[encoded data removed]",
            "text/plain": [
              "<Figure size 720x432 with 1 Axes>"
            ]
          },
          "metadata": {
            "tags": []
          }
        }
      ]
    },
    {
      "cell_type": "code",
      "metadata": {
        "id": "Feuy0Xt2tGiI",
        "colab_type": "code",
        "colab": {}
      },
      "source": [
        "df = df[df['strlen'] >= 30]\n",
        "df = df[df['strlen'] <= 2200]"
      ],
      "execution_count": 0,
      "outputs": []
    },
    {
      "cell_type": "code",
      "metadata": {
        "id": "Ndx76-ZHxw4k",
        "colab_type": "code",
        "colab": {}
      },
      "source": [
        "lines = df['lyrics'].tolist()"
      ],
      "execution_count": 0,
      "outputs": []
    },
    {
      "cell_type": "code",
      "metadata": {
        "id": "1fOnMOY2PmOn",
        "colab_type": "code",
        "colab": {}
      },
      "source": [
        "tokenizer = Tokenizer()\n",
        "tokenizer.fit_on_texts(lines)"
      ],
      "execution_count": 0,
      "outputs": []
    },
    {
      "cell_type": "code",
      "metadata": {
        "id": "eazpaCgYPn5g",
        "colab_type": "code",
        "outputId": "a24985c4-4b0a-46ee-d692-5978b2e9495e",
        "colab": {
          "base_uri": "https://localhost:8080/",
          "height": 51
        }
      },
      "source": [
        "vocab_size = len(tokenizer.word_index) + 1\n",
        "print(f'Vocab Size: {vocab_size}')\n",
        "max_length = max([len(s.split()) for s in lines])\n",
        "print(f'Max Length: {max_length}')"
      ],
      "execution_count": 173,
      "outputs": [
        {
          "output_type": "stream",
          "text": [
            "Vocab Size: 150612\n",
            "Max Length: 472\n"
          ],
          "name": "stdout"
        }
      ]
    },
    {
      "cell_type": "code",
      "metadata": {
        "id": "LhLFjlWSLFaY",
        "colab_type": "code",
        "colab": {}
      },
      "source": [
        "def encode_docs(vocab_size, max_length, docs):\n",
        "  encoded = tokenizer.texts_to_sequences(docs)\n",
        "  padded = pad_sequences(encoded, maxlen=max_length, padding='post')\n",
        "  return padded"
      ],
      "execution_count": 0,
      "outputs": []
    },
    {
      "cell_type": "code",
      "metadata": {
        "id": "eEklrwwGMvKw",
        "colab_type": "code",
        "colab": {}
      },
      "source": [
        "def define_model(vocab_size, max_length):\n",
        "  inputs1 = Input(shape=(max_length,))\n",
        "  embedding1 = Embedding(vocab_size, 50)(inputs1)\n",
        "  conv1 = Conv1D(filters=64, kernel_size=3, activation='relu')(embedding1)\n",
        "  drop1 = Dropout(0.5)(conv1)\n",
        "  pool1 = MaxPooling1D(pool_size=2)(drop1)\n",
        "  flat1 = Flatten()(pool1)\n",
        "\n",
        "  inputs2 = Input(shape=(max_length,))\n",
        "  embedding2 = Embedding(vocab_size, 50)(inputs2)\n",
        "  conv2 = Conv1D(filters=64, kernel_size=6, activation='relu')(embedding2)\n",
        "  drop2 = Dropout(0.5)(conv2)\n",
        "  pool2 = MaxPooling1D(pool_size=2)(drop2)\n",
        "  flat2 = Flatten()(pool2)\n",
        "\n",
        "  inputs3 = Input(shape=(max_length,))\n",
        "  embedding3 = Embedding(vocab_size, 50)(inputs3)\n",
        "  conv3 = Conv1D(filters=64, kernel_size=9, activation='relu')(embedding3)\n",
        "  drop3 = Dropout(0.5)(conv3)\n",
        "  pool3 = MaxPooling1D(pool_size=2)(drop3)\n",
        "  flat3 = Flatten()(pool3)\n",
        "\n",
        "  merged = concatenate([flat1, flat2, flat3])\n",
        "  dense1 = Dense(64, activation='relu')(merged)\n",
        "  dense2 = Dense(32, activation='relu')(dense1)\n",
        "  dense3 = Dense(32, activation='relu')(dense2)\n",
        "  outputs = Dense(len(genres), activation='softmax')(dense3)\n",
        "  model = Model(inputs=[inputs1, inputs2, inputs3], outputs=outputs)\n",
        "  model.compile(loss='categorical_crossentropy', optimizer='adam', metrics=['accuracy'])\n",
        "  model.summary()\n",
        "  plot_model(model, to_file='model.png', show_shapes=True)\n",
        "  return model"
      ],
      "execution_count": 0,
      "outputs": []
    },
    {
      "cell_type": "code",
      "metadata": {
        "id": "Z7sOeHKHOVX_",
        "colab_type": "code",
        "colab": {}
      },
      "source": [
        "def test_model(model):\n",
        "  rev_genre_dict = dict(zip(range(len(genres)), genres))\n",
        "  preds = model.predict([Xtest, Xtest, Xtest])\n",
        "  preds = [np.argmax(pred) for pred in preds]\n",
        "  labels = [np.argmax(label) for label in ytest]\n",
        "  print(classification_report(labels, preds))\n",
        "  cm = confusion_matrix(labels, preds)\n",
        "  cm_df = pd.DataFrame(cm, index=genres, columns=genres)\n",
        "  fig, ax = plt.subplots(figsize=(18,11)) \n",
        "  sn.set(font_scale=1.4)\n",
        "  sn.heatmap(cm_df, annot=True, annot_kws={'size': 12}, linewidths=0.5, cmap=\"Blues\") "
      ],
      "execution_count": 0,
      "outputs": []
    },
    {
      "cell_type": "code",
      "metadata": {
        "id": "uu7xsgMCM6oH",
        "colab_type": "code",
        "outputId": "fdf33f2b-dc04-4aa1-8e75-083111d84caa",
        "colab": {
          "base_uri": "https://localhost:8080/",
          "height": 34
        }
      },
      "source": [
        "X = encode_docs(tokenizer, max_length, lines)\n",
        "genre_dict = dict(zip(genres, range(len(genres))))\n",
        "print(genre_dict)\n",
        "y = df['genre'].astype(str).apply(lambda x: genre_dict[x]).tolist()\n",
        "y = to_categorical(y, num_classes=len(genres))"
      ],
      "execution_count": 177,
      "outputs": [
        {
          "output_type": "stream",
          "text": [
            "{'Pop': 0, 'Hip-Hop': 1, 'Rock': 2, 'Metal': 3, 'Country': 4}\n"
          ],
          "name": "stdout"
        }
      ]
    },
    {
      "cell_type": "code",
      "metadata": {
        "id": "YIAHP8ZPO-Ku",
        "colab_type": "code",
        "colab": {}
      },
      "source": [
        "from sklearn.model_selection import train_test_split\n",
        "(Xtrain, Xtest, ytrain, ytest) = train_test_split(X,y,test_size=0.2, random_state=42)"
      ],
      "execution_count": 0,
      "outputs": []
    },
    {
      "cell_type": "code",
      "metadata": {
        "id": "VHM8nDGHNJAw",
        "colab_type": "code",
        "outputId": "df52ccfb-6786-40ca-a471-fa89027d3dee",
        "colab": {
          "base_uri": "https://localhost:8080/",
          "height": 1000
        }
      },
      "source": [
        "model = define_model(vocab_size, max_length)\n",
        "model.fit([Xtrain, Xtrain, Xtrain], ytrain, epochs=3, batch_size=32)\n",
        "model.save('model.h5')"
      ],
      "execution_count": 179,
      "outputs": [
        {
          "output_type": "stream",
          "text": [
            "Model: \"model_21\"\n",
            "__________________________________________________________________________________________________\n",
            "Layer (type)                    Output Shape         Param #     Connected to                     \n",
            "==================================================================================================\n",
            "input_64 (InputLayer)           [(None, 472)]        0                                            \n",
            "__________________________________________________________________________________________________\n",
            "input_65 (InputLayer)           [(None, 472)]        0                                            \n",
            "__________________________________________________________________________________________________\n",
            "input_66 (InputLayer)           [(None, 472)]        0                                            \n",
            "__________________________________________________________________________________________________\n",
            "embedding_63 (Embedding)        (None, 472, 50)      7530600     input_64[0][0]                   \n",
            "__________________________________________________________________________________________________\n",
            "embedding_64 (Embedding)        (None, 472, 50)      7530600     input_65[0][0]                   \n",
            "__________________________________________________________________________________________________\n",
            "embedding_65 (Embedding)        (None, 472, 50)      7530600     input_66[0][0]                   \n",
            "__________________________________________________________________________________________________\n",
            "conv1d_63 (Conv1D)              (None, 470, 64)      9664        embedding_63[0][0]               \n",
            "__________________________________________________________________________________________________\n",
            "conv1d_64 (Conv1D)              (None, 467, 64)      19264       embedding_64[0][0]               \n",
            "__________________________________________________________________________________________________\n",
            "conv1d_65 (Conv1D)              (None, 464, 64)      28864       embedding_65[0][0]               \n",
            "__________________________________________________________________________________________________\n",
            "dropout_63 (Dropout)            (None, 470, 64)      0           conv1d_63[0][0]                  \n",
            "__________________________________________________________________________________________________\n",
            "dropout_64 (Dropout)            (None, 467, 64)      0           conv1d_64[0][0]                  \n",
            "__________________________________________________________________________________________________\n",
            "dropout_65 (Dropout)            (None, 464, 64)      0           conv1d_65[0][0]                  \n",
            "__________________________________________________________________________________________________\n",
            "max_pooling1d_63 (MaxPooling1D) (None, 235, 64)      0           dropout_63[0][0]                 \n",
            "__________________________________________________________________________________________________\n",
            "max_pooling1d_64 (MaxPooling1D) (None, 233, 64)      0           dropout_64[0][0]                 \n",
            "__________________________________________________________________________________________________\n",
            "max_pooling1d_65 (MaxPooling1D) (None, 232, 64)      0           dropout_65[0][0]                 \n",
            "__________________________________________________________________________________________________\n",
            "flatten_63 (Flatten)            (None, 15040)        0           max_pooling1d_63[0][0]           \n",
            "__________________________________________________________________________________________________\n",
            "flatten_64 (Flatten)            (None, 14912)        0           max_pooling1d_64[0][0]           \n",
            "__________________________________________________________________________________________________\n",
            "flatten_65 (Flatten)            (None, 14848)        0           max_pooling1d_65[0][0]           \n",
            "__________________________________________________________________________________________________\n",
            "concatenate_21 (Concatenate)    (None, 44800)        0           flatten_63[0][0]                 \n",
            "                                                                 flatten_64[0][0]                 \n",
            "                                                                 flatten_65[0][0]                 \n",
            "__________________________________________________________________________________________________\n",
            "dense_78 (Dense)                (None, 64)           2867264     concatenate_21[0][0]             \n",
            "__________________________________________________________________________________________________\n",
            "dense_79 (Dense)                (None, 32)           2080        dense_78[0][0]                   \n",
            "__________________________________________________________________________________________________\n",
            "dense_80 (Dense)                (None, 32)           1056        dense_79[0][0]                   \n",
            "__________________________________________________________________________________________________\n",
            "dense_81 (Dense)                (None, 5)            165         dense_80[0][0]                   \n",
            "==================================================================================================\n",
            "Total params: 25,520,157\n",
            "Trainable params: 25,520,157\n",
            "Non-trainable params: 0\n",
            "__________________________________________________________________________________________________\n",
            "Train on 101621 samples\n",
            "Epoch 1/3\n",
            "101621/101621 [==============================] - 48s 474us/sample - loss: 0.9893 - acc: 0.5974\n",
            "Epoch 2/3\n",
            "101621/101621 [==============================] - 46s 448us/sample - loss: 0.7506 - acc: 0.7044\n",
            "Epoch 3/3\n",
            "101621/101621 [==============================] - 46s 449us/sample - loss: 0.5287 - acc: 0.7990\n"
          ],
          "name": "stdout"
        }
      ]
    },
    {
      "cell_type": "code",
      "metadata": {
        "id": "_sM-SKW7PBjx",
        "colab_type": "code",
        "outputId": "6aaaecb5-f620-4d7b-b531-4afc35bada7f",
        "colab": {
          "base_uri": "https://localhost:8080/",
          "height": 857
        }
      },
      "source": [
        "test_model(model)"
      ],
      "execution_count": 180,
      "outputs": [
        {
          "output_type": "stream",
          "text": [
            "              precision    recall  f1-score   support\n",
            "\n",
            "           0       0.59      0.49      0.54      6169\n",
            "           1       0.79      0.80      0.79      2971\n",
            "           2       0.59      0.72      0.65      9524\n",
            "           3       0.76      0.65      0.70      4098\n",
            "           4       0.61      0.49      0.54      2644\n",
            "\n",
            "    accuracy                           0.64     25406\n",
            "   macro avg       0.67      0.63      0.64     25406\n",
            "weighted avg       0.64      0.64      0.64     25406\n",
            "\n"
          ],
          "name": "stdout"
        },
        {
          "output_type": "display_data",
          "data": {
            "image/png": "[encoded data removed]",
            "text/plain": [
              "<Figure size 1296x792 with 2 Axes>"
            ]
          },
          "metadata": {
            "tags": []
          }
        }
      ]
    },
    {
      "cell_type": "code",
      "metadata": {
        "id": "WHIQrn_U-EZK",
        "colab_type": "code",
        "colab": {}
      },
      "source": [
        ""
      ],
      "execution_count": 0,
      "outputs": []
    }
  ]
}