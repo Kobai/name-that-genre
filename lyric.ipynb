{
  "nbformat": 4,
  "nbformat_minor": 0,
  "metadata": {
    "colab": {
      "name": "lyric.ipynb",
      "provenance": [],
      "include_colab_link": true
    },
    "kernelspec": {
      "name": "python3",
      "display_name": "Python 3"
    },
    "accelerator": "GPU"
  },
  "cells": [
    {
      "cell_type": "markdown",
      "metadata": {
        "id": "view-in-github",
        "colab_type": "text"
      },
      "source": [
        "<a href=\"https://colab.research.google.com/github/Kobai/name-that-genre/blob/master/lyric.ipynb\" target=\"_parent\"><img src=\"https://colab.research.google.com/assets/colab-badge.svg\" alt=\"Open In Colab\"/></a>"
      ]
    },
    {
      "cell_type": "code",
      "metadata": {
        "id": "2MbFBvjqgpFd",
        "colab_type": "code",
        "outputId": "67f670db-b916-484d-f4c1-367b3bf6671e",
        "colab": {
          "base_uri": "https://localhost:8080/",
          "height": 85
        }
      },
      "source": [
        "import string\n",
        "import re\n",
        "from os import listdir\n",
        "from numpy import array\n",
        "from tensorflow.keras.preprocessing.text import Tokenizer\n",
        "from tensorflow.keras.preprocessing.sequence import pad_sequences\n",
        "from tensorflow.keras.utils import plot_model, to_categorical\n",
        "from tensorflow.keras.models import Sequential, Model\n",
        "from tensorflow.keras.layers import Dense, Flatten, Embedding, Conv1D, MaxPooling1D, Input, Dropout, concatenate\n",
        "from sklearn.metrics import confusion_matrix, classification_report\n",
        "import seaborn as sn\n",
        "import numpy as np\n",
        "import nltk\n",
        "nltk.download('stopwords')\n",
        "nltk.download('wordnet')\n",
        "from nltk.corpus import stopwords, wordnet\n",
        "from nltk.stem import PorterStemmer\n",
        "from collections import Counter\n",
        "import pandas as pd"
      ],
      "execution_count": 148,
      "outputs": [
        {
          "output_type": "stream",
          "text": [
            "[nltk_data] Downloading package stopwords to /root/nltk_data...\n",
            "[nltk_data]   Package stopwords is already up-to-date!\n",
            "[nltk_data] Downloading package wordnet to /root/nltk_data...\n",
            "[nltk_data]   Package wordnet is already up-to-date!\n"
          ],
          "name": "stdout"
        }
      ]
    },
    {
      "cell_type": "code",
      "metadata": {
        "id": "W_DWgYRE1RLz",
        "colab_type": "code",
        "colab": {}
      },
      "source": [
        "from zipfile import ZipFile\n",
        "with ZipFile('lyrics.zip', 'r') as zipObj:\n",
        "  zipObj.extractall()"
      ],
      "execution_count": 0,
      "outputs": []
    },
    {
      "cell_type": "code",
      "metadata": {
        "id": "wg5HJtQg1-95",
        "colab_type": "code",
        "colab": {}
      },
      "source": [
        "import pandas as pd\n",
        "df = pd.read_csv('lyrics.csv')"
      ],
      "execution_count": 0,
      "outputs": []
    },
    {
      "cell_type": "code",
      "metadata": {
        "id": "HatNlkVd2IYt",
        "colab_type": "code",
        "colab": {}
      },
      "source": [
        "df.head()"
      ],
      "execution_count": 0,
      "outputs": []
    },
    {
      "cell_type": "code",
      "metadata": {
        "id": "lYD0DGl32KUI",
        "colab_type": "code",
        "colab": {}
      },
      "source": [
        "df = df.drop(columns=['index', 'song', 'year', 'artist'])"
      ],
      "execution_count": 0,
      "outputs": []
    },
    {
      "cell_type": "code",
      "metadata": {
        "id": "34k9lR4l7j5J",
        "colab_type": "code",
        "colab": {}
      },
      "source": [
        "df.to_csv('small_lyrics.csv', index=False)"
      ],
      "execution_count": 0,
      "outputs": []
    },
    {
      "cell_type": "code",
      "metadata": {
        "id": "7u8qWLWs8nTN",
        "colab_type": "code",
        "colab": {}
      },
      "source": [
        "df['lyrics'].head()[0]"
      ],
      "execution_count": 0,
      "outputs": []
    },
    {
      "cell_type": "code",
      "metadata": {
        "id": "jVNYP-qG8pDb",
        "colab_type": "code",
        "colab": {}
      },
      "source": [
        "def clean_lyrics(doc):\n",
        "  stemmer = PorterStemmer()\n",
        "  doc.replace('\\n', ' ')\n",
        "  tokens = doc.split()\n",
        "  re_punc = re.compile(f'[{re.escape(string.punctuation)}]')\n",
        "  tokens = [re_punc.sub('',w) for w in tokens]\n",
        "  tokens = [word for word in tokens if word.isalpha()]\n",
        "  stop_words = set(stopwords.words('english'))\n",
        "  tokens = [w for w in tokens if not w in stop_words]\n",
        "  tokens = [word for word in tokens if len(word) >1]\n",
        "  tokens = [word.lower() for word in tokens]\n",
        "  tokens = [stemmer.stem(word) for word in tokens]\n",
        "  return ' '.join(tokens)\n",
        "\n",
        "def is_english(doc):\n",
        "  tokens = doc.split()\n",
        "  counter = 0\n",
        "  threshold = int(len(tokens) * 0.3)\n",
        "  for token in tokens:\n",
        "    if not wordnet.synsets(token):\n",
        "      counter +=1\n",
        "    if counter >= threshold:\n",
        "      return False\n",
        "  return True"
      ],
      "execution_count": 0,
      "outputs": []
    },
    {
      "cell_type": "code",
      "metadata": {
        "id": "vZmzSUhlRQ9d",
        "colab_type": "code",
        "colab": {}
      },
      "source": [
        "clean_lyrics(df['lyrics'].head()[0])"
      ],
      "execution_count": 0,
      "outputs": []
    },
    {
      "cell_type": "code",
      "metadata": {
        "id": "YXVQRJicDzNj",
        "colab_type": "code",
        "colab": {}
      },
      "source": [
        "df['lyrics'] = df['lyrics'].astype(str).apply(lambda x: clean_lyrics(x))"
      ],
      "execution_count": 0,
      "outputs": []
    },
    {
      "cell_type": "code",
      "metadata": {
        "id": "Lv6Yfbj0WjG5",
        "colab_type": "code",
        "colab": {}
      },
      "source": [
        "df = df[df['lyrics'] != 'nan' ]"
      ],
      "execution_count": 0,
      "outputs": []
    },
    {
      "cell_type": "code",
      "metadata": {
        "id": "_BFWX833r3St",
        "colab_type": "code",
        "colab": {}
      },
      "source": [
        "df = df[df.apply(lambda x: is_english(x['lyrics']), axis=1)]"
      ],
      "execution_count": 0,
      "outputs": []
    },
    {
      "cell_type": "code",
      "metadata": {
        "id": "RfLerdwYEBp6",
        "colab_type": "code",
        "colab": {}
      },
      "source": [
        "df.to_csv('clean_lyrics.csv', index=False)"
      ],
      "execution_count": 0,
      "outputs": []
    },
    {
      "cell_type": "code",
      "metadata": {
        "id": "JNxeCVNWFzA4",
        "colab_type": "code",
        "colab": {}
      },
      "source": [
        "df['lyrics'].to_csv('output.txt', index=False)"
      ],
      "execution_count": 0,
      "outputs": []
    },
    {
      "cell_type": "code",
      "metadata": {
        "id": "RyZBoVz8JfXw",
        "colab_type": "code",
        "colab": {}
      },
      "source": [
        "def open_txt(filename):\n",
        "  with open(filename, 'r') as file:\n",
        "    return file.read()"
      ],
      "execution_count": 0,
      "outputs": []
    },
    {
      "cell_type": "code",
      "metadata": {
        "id": "sQv1yeHCPg9x",
        "colab_type": "code",
        "colab": {}
      },
      "source": [
        "raw_text = open_txt('output.txt')\n",
        "lines = raw_text.split('\\n')\n",
        "print(lines[1])"
      ],
      "execution_count": 0,
      "outputs": []
    },
    {
      "cell_type": "code",
      "metadata": {
        "id": "jcD_T2VSumvP",
        "colab_type": "code",
        "colab": {}
      },
      "source": [
        "df = pd.read_csv('clean_lyrics.csv')\n",
        "df['strlen'] = df['lyrics'].str.len()\n",
        "df = df[df['strlen'] >= 50]\n",
        "df = df[df['strlen'] <= 2500]\n",
        "df['strlen'].describe()"
      ],
      "execution_count": 0,
      "outputs": []
    },
    {
      "cell_type": "code",
      "metadata": {
        "id": "Ndx76-ZHxw4k",
        "colab_type": "code",
        "colab": {}
      },
      "source": [
        "lines = df['lyrics'].tolist()"
      ],
      "execution_count": 0,
      "outputs": []
    },
    {
      "cell_type": "code",
      "metadata": {
        "id": "1fOnMOY2PmOn",
        "colab_type": "code",
        "colab": {}
      },
      "source": [
        "tokenizer = Tokenizer()\n",
        "tokenizer.fit_on_texts(lines)"
      ],
      "execution_count": 0,
      "outputs": []
    },
    {
      "cell_type": "code",
      "metadata": {
        "id": "eazpaCgYPn5g",
        "colab_type": "code",
        "colab": {}
      },
      "source": [
        "vocab_size = len(tokenizer.word_index) + 1\n",
        "print(f'Vocab Size: {vocab_size}')\n",
        "max_length = max([len(s.split()) for s in lines])\n",
        "print(f'Max Length: {max_length}')"
      ],
      "execution_count": 0,
      "outputs": []
    },
    {
      "cell_type": "code",
      "metadata": {
        "id": "LhLFjlWSLFaY",
        "colab_type": "code",
        "colab": {}
      },
      "source": [
        "def encode_docs(vocab_size, max_length, docs):\n",
        "  encoded = tokenizer.texts_to_sequences(docs)\n",
        "  padded = pad_sequences(encoded, maxlen=max_length, padding='post')\n",
        "  return padded"
      ],
      "execution_count": 0,
      "outputs": []
    },
    {
      "cell_type": "code",
      "metadata": {
        "id": "eEklrwwGMvKw",
        "colab_type": "code",
        "colab": {}
      },
      "source": [
        "def define_model(vocab_size, max_length):\n",
        "  inputs1 = Input(shape=(max_length,))\n",
        "  embedding1 = Embedding(vocab_size, 100)(inputs1)\n",
        "  conv1 = Conv1D(filters=32, kernel_size=4, activation='relu')(embedding1)\n",
        "  drop1 = Dropout(0.5)(conv1)\n",
        "  pool1 = MaxPooling1D(pool_size=2)(drop1)\n",
        "  flat1 = Flatten()(pool1)\n",
        "\n",
        "  inputs2 = Input(shape=(max_length,))\n",
        "  embedding2 = Embedding(vocab_size, 100)(inputs2)\n",
        "  conv2 = Conv1D(filters=32, kernel_size=6, activation='relu')(embedding2)\n",
        "  drop2 = Dropout(0.5)(conv2)\n",
        "  pool2 = MaxPooling1D(pool_size=2)(drop2)\n",
        "  flat2 = Flatten()(pool2)\n",
        "\n",
        "  inputs3 = Input(shape=(max_length,))\n",
        "  embedding3 = Embedding(vocab_size, 100)(inputs3)\n",
        "  conv3 = Conv1D(filters=32, kernel_size=8, activation='relu')(embedding3)\n",
        "  drop3 = Dropout(0.5)(conv3)\n",
        "  pool3 = MaxPooling1D(pool_size=2)(drop3)\n",
        "  flat3 = Flatten()(pool3)\n",
        "\n",
        "  merged = concatenate([flat1, flat2, flat3])\n",
        "  dense1 = Dense(64, activation='relu')(merged)\n",
        "  dense2 = Dense(32, activation='relu')(dense1)\n",
        "  outputs = Dense(12, activation='softmax')(dense2)\n",
        "  model = Model(inputs=[inputs1, inputs2, inputs3], outputs=outputs)\n",
        "  model.compile(loss='categorical_crossentropy', optimizer='adam', metrics=['accuracy'])\n",
        "  model.summary()\n",
        "  plot_model(model, to_file='model.png', show_shapes=True)\n",
        "  return model"
      ],
      "execution_count": 0,
      "outputs": []
    },
    {
      "cell_type": "code",
      "metadata": {
        "id": "Z7sOeHKHOVX_",
        "colab_type": "code",
        "colab": {}
      },
      "source": [
        "def test_model(model):\n",
        "  preds = model.predict([Xtest, Xtest, Xtest])\n",
        "  preds = [np.argmax(pred) for pred in preds]\n",
        "  labels = [np.argmax(label) for label in ytest]\n",
        "  print(classification_report(labels, preds))\n",
        "  cm = confusion_matrix(labels, preds)\n",
        "  fig, ax = plt.subplots(figsize=(16,16)) \n",
        "  sn.set(font_scale=1.4)\n",
        "  sn.heatmap(cm, annot=True, annot_kws={'size': 12}) "
      ],
      "execution_count": 0,
      "outputs": []
    },
    {
      "cell_type": "code",
      "metadata": {
        "id": "uu7xsgMCM6oH",
        "colab_type": "code",
        "colab": {
          "base_uri": "https://localhost:8080/",
          "height": 153
        },
        "outputId": "bf0878c8-632b-4a53-9bb5-2cf2e35086cb"
      },
      "source": [
        "X = encode_docs(tokenizer, max_length, lines)\n",
        "genre_dict = dict(zip(df['genre'].unique().tolist(), range(12)))\n",
        "print(genre_dict)\n",
        "y = df['genre'].astype(str).apply(lambda x: genre_dict[x]).tolist()\n",
        "y = to_categorical(y, num_classes=12)"
      ],
      "execution_count": 113,
      "outputs": [
        {
          "output_type": "stream",
          "text": [
            "{'Pop': 0, 'Hip-Hop': 1, 'Not Available': 2, 'Rock': 3, 'Metal': 4, 'Other': 5, 'Country': 6, 'Jazz': 7, 'Electronic': 8, 'Folk': 9, 'Indie': 10, 'R&B': 11}\n",
            "[[1. 0. 0. ... 0. 0. 0.]\n",
            " [1. 0. 0. ... 0. 0. 0.]\n",
            " [1. 0. 0. ... 0. 0. 0.]\n",
            " ...\n",
            " [0. 0. 0. ... 0. 0. 0.]\n",
            " [0. 0. 0. ... 0. 0. 0.]\n",
            " [0. 0. 0. ... 0. 0. 0.]]\n"
          ],
          "name": "stdout"
        }
      ]
    },
    {
      "cell_type": "code",
      "metadata": {
        "id": "YIAHP8ZPO-Ku",
        "colab_type": "code",
        "colab": {}
      },
      "source": [
        "from sklearn.model_selection import train_test_split\n",
        "(Xtrain, Xtest, ytrain, ytest) = train_test_split(X,y,test_size=0.2, random_state=42)"
      ],
      "execution_count": 0,
      "outputs": []
    },
    {
      "cell_type": "code",
      "metadata": {
        "id": "VHM8nDGHNJAw",
        "colab_type": "code",
        "outputId": "d29ace76-bc12-4c29-f85c-e329e5e0bdda",
        "colab": {
          "base_uri": "https://localhost:8080/",
          "height": 1000
        }
      },
      "source": [
        "model = define_model(vocab_size, max_length)\n",
        "model.fit([Xtrain, Xtrain, Xtrain], ytrain, epochs=7, batch_size=128)\n",
        "model.save('model.h5')"
      ],
      "execution_count": 115,
      "outputs": [
        {
          "output_type": "stream",
          "text": [
            "Model: \"model_3\"\n",
            "__________________________________________________________________________________________________\n",
            "Layer (type)                    Output Shape         Param #     Connected to                     \n",
            "==================================================================================================\n",
            "input_17 (InputLayer)           [(None, 2377)]       0                                            \n",
            "__________________________________________________________________________________________________\n",
            "input_18 (InputLayer)           [(None, 2377)]       0                                            \n",
            "__________________________________________________________________________________________________\n",
            "input_19 (InputLayer)           [(None, 2377)]       0                                            \n",
            "__________________________________________________________________________________________________\n",
            "embedding_25 (Embedding)        (None, 2377, 100)    10506800    input_17[0][0]                   \n",
            "__________________________________________________________________________________________________\n",
            "embedding_26 (Embedding)        (None, 2377, 100)    10506800    input_18[0][0]                   \n",
            "__________________________________________________________________________________________________\n",
            "embedding_27 (Embedding)        (None, 2377, 100)    10506800    input_19[0][0]                   \n",
            "__________________________________________________________________________________________________\n",
            "conv1d_25 (Conv1D)              (None, 2374, 32)     12832       embedding_25[0][0]               \n",
            "__________________________________________________________________________________________________\n",
            "conv1d_26 (Conv1D)              (None, 2372, 32)     19232       embedding_26[0][0]               \n",
            "__________________________________________________________________________________________________\n",
            "conv1d_27 (Conv1D)              (None, 2370, 32)     25632       embedding_27[0][0]               \n",
            "__________________________________________________________________________________________________\n",
            "dropout_15 (Dropout)            (None, 2374, 32)     0           conv1d_25[0][0]                  \n",
            "__________________________________________________________________________________________________\n",
            "dropout_16 (Dropout)            (None, 2372, 32)     0           conv1d_26[0][0]                  \n",
            "__________________________________________________________________________________________________\n",
            "dropout_17 (Dropout)            (None, 2370, 32)     0           conv1d_27[0][0]                  \n",
            "__________________________________________________________________________________________________\n",
            "max_pooling1d_24 (MaxPooling1D) (None, 1187, 32)     0           dropout_15[0][0]                 \n",
            "__________________________________________________________________________________________________\n",
            "max_pooling1d_25 (MaxPooling1D) (None, 1186, 32)     0           dropout_16[0][0]                 \n",
            "__________________________________________________________________________________________________\n",
            "max_pooling1d_26 (MaxPooling1D) (None, 1185, 32)     0           dropout_17[0][0]                 \n",
            "__________________________________________________________________________________________________\n",
            "flatten_24 (Flatten)            (None, 37984)        0           max_pooling1d_24[0][0]           \n",
            "__________________________________________________________________________________________________\n",
            "flatten_25 (Flatten)            (None, 37952)        0           max_pooling1d_25[0][0]           \n",
            "__________________________________________________________________________________________________\n",
            "flatten_26 (Flatten)            (None, 37920)        0           max_pooling1d_26[0][0]           \n",
            "__________________________________________________________________________________________________\n",
            "concatenate_4 (Concatenate)     (None, 113856)       0           flatten_24[0][0]                 \n",
            "                                                                 flatten_25[0][0]                 \n",
            "                                                                 flatten_26[0][0]                 \n",
            "__________________________________________________________________________________________________\n",
            "dense_26 (Dense)                (None, 64)           7286848     concatenate_4[0][0]              \n",
            "__________________________________________________________________________________________________\n",
            "dense_27 (Dense)                (None, 32)           2080        dense_26[0][0]                   \n",
            "__________________________________________________________________________________________________\n",
            "dense_28 (Dense)                (None, 12)           396         dense_27[0][0]                   \n",
            "==================================================================================================\n",
            "Total params: 38,867,420\n",
            "Trainable params: 38,867,420\n",
            "Non-trainable params: 0\n",
            "__________________________________________________________________________________________________\n",
            "Train on 121395 samples\n",
            "Epoch 1/7\n",
            "121395/121395 [==============================] - 95s 782us/sample - loss: 1.5314 - acc: 0.5285\n",
            "Epoch 2/7\n",
            "121395/121395 [==============================] - 95s 779us/sample - loss: 1.3078 - acc: 0.5887\n",
            "Epoch 3/7\n",
            "121395/121395 [==============================] - 95s 780us/sample - loss: 1.0899 - acc: 0.6585\n",
            "Epoch 4/7\n",
            "121395/121395 [==============================] - 95s 781us/sample - loss: 0.8587 - acc: 0.7304\n",
            "Epoch 5/7\n",
            "121395/121395 [==============================] - 95s 780us/sample - loss: 0.6912 - acc: 0.7824\n",
            "Epoch 6/7\n",
            "121395/121395 [==============================] - 94s 776us/sample - loss: 0.5679 - acc: 0.8205\n",
            "Epoch 7/7\n",
            "121395/121395 [==============================] - 94s 777us/sample - loss: 0.4794 - acc: 0.8481\n"
          ],
          "name": "stdout"
        }
      ]
    },
    {
      "cell_type": "code",
      "metadata": {
        "id": "_sM-SKW7PBjx",
        "colab_type": "code",
        "colab": {
          "base_uri": "https://localhost:8080/",
          "height": 1000
        },
        "outputId": "a6275b39-1d44-4a5f-869e-b681f14f5ca7"
      },
      "source": [
        "test_model(model)"
      ],
      "execution_count": 159,
      "outputs": [
        {
          "output_type": "stream",
          "text": [
            "              precision    recall  f1-score   support\n",
            "\n",
            "           0       0.39      0.35      0.37      4181\n",
            "           1       0.77      0.70      0.73      2083\n",
            "           2       0.20      0.13      0.16      2102\n",
            "           3       0.60      0.75      0.66     13591\n",
            "           4       0.57      0.59      0.58      3026\n",
            "           5       0.27      0.03      0.06       512\n",
            "           6       0.49      0.36      0.42      1952\n",
            "           7       0.39      0.37      0.38       934\n",
            "           8       0.20      0.14      0.17       843\n",
            "           9       0.33      0.05      0.09       278\n",
            "          10       0.18      0.04      0.07       444\n",
            "          11       0.31      0.11      0.16       403\n",
            "\n",
            "    accuracy                           0.54     30349\n",
            "   macro avg       0.39      0.30      0.32     30349\n",
            "weighted avg       0.51      0.54      0.51     30349\n",
            "\n"
          ],
          "name": "stdout"
        },
        {
          "output_type": "display_data",
          "data": {
            "image/png": "[encoded data removed]",
            "text/plain": [
              "<Figure size 1152x1152 with 2 Axes>"
            ]
          },
          "metadata": {
            "tags": []
          }
        }
      ]
    },
    {
      "cell_type": "code",
      "metadata": {
        "id": "X72PYbTGQHOr",
        "colab_type": "code",
        "colab": {}
      },
      "source": [
        ""
      ],
      "execution_count": 0,
      "outputs": []
    }
  ]
}